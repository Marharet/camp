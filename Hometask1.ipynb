{
 "cells": [
  {
   "cell_type": "markdown",
   "id": "fa80452c",
   "metadata": {},
   "source": [
    "<h2 style=\"color:ForestGreen;\">Task 1</h2>\n",
    "<p>Chekcing dots in the cirsle S=ΠR^2, R=1</p>\n",
    "</br>\n"
   ]
  },
  {
   "cell_type": "code",
   "execution_count": 20,
   "id": "d1322abb",
   "metadata": {},
   "outputs": [],
   "source": [
    "import numpy as np"
   ]
  },
  {
   "cell_type": "code",
   "execution_count": 21,
   "id": "55b26c15",
   "metadata": {},
   "outputs": [
    {
     "name": "stdout",
     "output_type": "stream",
     "text": [
      "Dots in circle: 7801\n",
      "pi = 3.1204\n"
     ]
    }
   ],
   "source": [
    "from random import random\n",
    "test = 0 \n",
    "count = 0  # for counting those dots that are in circle \n",
    "for test in range(10000):\n",
    "    x = random()*(1+1)-1\n",
    "    y = random()*(1+1)-1\n",
    "    # we'll be checking dots by using the formula of circle (x-x1)^2 + (y-y1)^2 = R^2\n",
    "    # R=1  O(0;0) - center of our circle\n",
    "    # so our condition will be:\n",
    "    if (x**2 + y**2) <= 1:\n",
    "        count+=1\n",
    "pi = 4*count/10000\n",
    "print(\"Dots in circle:\", + count)\n",
    "print(\"pi =\", + pi)"
   ]
  },
  {
   "cell_type": "markdown",
   "id": "ed74aea1",
   "metadata": {},
   "source": [
    "</br>\n",
    "<h2 style=\"color:ForestGreen;\">Task about sum and product </h2>\n"
   ]
  },
  {
   "cell_type": "markdown",
   "id": "b59f6222",
   "metadata": {},
   "source": [
    "```\n",
    "There are two whole numbers:\n",
    "1 < a,b <100\n",
    "\n",
    "One scientist(\"Sum\") get provided with sum of numbers,\n",
    "another  (\"Prod\") get provided with product of numbers. \n",
    "Both scientists know that numbers 1 < a,b <100.\n",
    "\n",
    "Determine the numbers being based on the following dialog: \n",
    "    Prod: I don't know the numbers;\n",
    "    Sum: I know it;\n",
    "    Prod: then I know the numbers; \n",
    "    Sum: then I know the numbers too.\n",
    "```\n",
    "</br>"
   ]
  },
  {
   "cell_type": "code",
   "execution_count": 22,
   "id": "aac655b5",
   "metadata": {},
   "outputs": [
    {
     "name": "stdout",
     "output_type": "stream",
     "text": [
      "1.02 51\n",
      "1.04 26\n",
      "1.05 21\n"
     ]
    }
   ],
   "source": [
    "for a in np.arange(1.0, 2.0, 0.01):\n",
    "    for b in np.arange(1, 100, 1):\n",
    "        if a * b == a + b:\n",
    "            print(a, b)"
   ]
  },
  {
   "cell_type": "code",
   "execution_count": 23,
   "id": "bea8ed5c",
   "metadata": {},
   "outputs": [
    {
     "name": "stdout",
     "output_type": "stream",
     "text": [
      "2 2\n"
     ]
    }
   ],
   "source": [
    "for a in range(1, 100):\n",
    "    for b in range(1, 100):\n",
    "        if a * b == a + b:\n",
    "            print(a, b)"
   ]
  }
 ],
 "metadata": {
  "kernelspec": {
   "display_name": "Python 3",
   "language": "python",
   "name": "python3"
  },
  "language_info": {
   "codemirror_mode": {
    "name": "ipython",
    "version": 3
   },
   "file_extension": ".py",
   "mimetype": "text/x-python",
   "name": "python",
   "nbconvert_exporter": "python",
   "pygments_lexer": "ipython3",
   "version": "3.9.13"
  }
 },
 "nbformat": 4,
 "nbformat_minor": 5
}
